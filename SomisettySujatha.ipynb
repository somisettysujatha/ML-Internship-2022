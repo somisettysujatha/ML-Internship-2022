{
  "nbformat": 4,
  "nbformat_minor": 0,
  "metadata": {
    "colab": {
      "name": "SomisettySujatha.ipynb",
      "provenance": []
    },
    "kernelspec": {
      "name": "python3",
      "display_name": "Python 3"
    },
    "language_info": {
      "name": "python"
    }
  },
  "cells": [
    {
      "cell_type": "code",
      "execution_count": null,
      "metadata": {
        "id": "C2lpxh7RJ6lf"
      },
      "outputs": [],
      "source": [
        ""
      ]
    },
    {
      "cell_type": "code",
      "source": [
        "#question1\n",
        "def factorial(n):\n",
        "  fact=1\n",
        "  for i in range(1,n+1):\n",
        "    fact=fact*i\n",
        "  return fact\n",
        "n=int(input(\"Enter positive number:\"))\n",
        "f=factorial(n)\n",
        "print(f)  "
      ],
      "metadata": {
        "colab": {
          "base_uri": "https://localhost:8080/"
        },
        "id": "CwoNGYHqF5sc",
        "outputId": "a90b4078-6d6d-4d2c-e9b5-1b2f393995a0"
      },
      "execution_count": null,
      "outputs": [
        {
          "output_type": "stream",
          "name": "stdout",
          "text": [
            "Enter positive number:5\n",
            "120\n"
          ]
        }
      ]
    },
    {
      "cell_type": "code",
      "source": [
        "#question2\n",
        "relation={\"Darth\":\"father\",\"Leia\":\"sister\",\"Han\":\"brother in law\",\"R2D2\":\"droid\"}\n",
        "for i in relation.values():\n",
        "  print(\"Luke,Iam your\",i)"
      ],
      "metadata": {
        "colab": {
          "base_uri": "https://localhost:8080/"
        },
        "id": "hu-vteTZHGum",
        "outputId": "6da41b92-6cec-4a46-d3b1-ccec3b159cde"
      },
      "execution_count": null,
      "outputs": [
        {
          "output_type": "stream",
          "name": "stdout",
          "text": [
            "Luke,Iam your father\n",
            "Luke,Iam your sister\n",
            "Luke,Iam your brother in law\n",
            "Luke,Iam your droid\n"
          ]
        }
      ]
    },
    {
      "cell_type": "code",
      "source": [
        "#question3\n",
        "num = int(input(\"Enter a number:\"))\n",
        "count = 0\n",
        "\n",
        "while num != 0:\n",
        "  num //= 10\n",
        "  count += 1\n",
        "\n",
        "print(\"Number of digits:\" + str(count))\n",
        "\n",
        "      "
      ],
      "metadata": {
        "colab": {
          "base_uri": "https://localhost:8080/"
        },
        "id": "bQVoS8WeIcD1",
        "outputId": "6dfc02e1-59d4-4bbb-cc30-3431b0e86541"
      },
      "execution_count": null,
      "outputs": [
        {
          "output_type": "stream",
          "name": "stdout",
          "text": [
            "Enter a number:1234\n",
            "Number of digits:4\n"
          ]
        }
      ]
    },
    {
      "cell_type": "code",
      "source": [
        "#question4\n",
        "def total_factorial(num):\n",
        "  fact =1\n",
        "  while num > 0:\n",
        "    for item in range(1,num+1):\n",
        "      fact = fact * item\n",
        "    num = num-1\n",
        "  return fact\n",
        "\n",
        "result = total_factorial(5)\n",
        "print(result)\n",
        "\n"
      ],
      "metadata": {
        "id": "5hAaVBY9HkGL"
      },
      "execution_count": null,
      "outputs": []
    },
    {
      "cell_type": "code",
      "source": [
        "#question5\n",
        "list = [1,2,3]\n",
        "print(\"The original list is:\" + str(list))\n",
        "m = sum(map(lambda i:i*i,list))\n",
        "print(\"The sum of squares of list is :\" + str(m))\n"
      ],
      "metadata": {
        "colab": {
          "base_uri": "https://localhost:8080/"
        },
        "id": "68nyRL8zKnv-",
        "outputId": "f65c06c2-f3f5-4650-a8d5-cc26ab82994a"
      },
      "execution_count": null,
      "outputs": [
        {
          "output_type": "stream",
          "name": "stdout",
          "text": [
            "The original list is:[1, 2, 3]\n",
            "The sum of squares of list is :14\n"
          ]
        }
      ]
    },
    {
      "cell_type": "code",
      "source": [
        ""
      ],
      "metadata": {
        "id": "yPvtqTV2LEUg"
      },
      "execution_count": null,
      "outputs": []
    },
    {
      "cell_type": "code",
      "source": [
        "#question6\n",
        "number_1 = int(input('Enter your first number: '))\n",
        "number_2 = int(input('Enter your second number: '))\n",
        "operation = input('''\n",
        "Please enter an operation to do:\n",
        "+ for addition\n",
        "- for subtraction\n",
        "* for multiplication\n",
        "/ for division\n",
        "''')\n",
        "\n",
        "\n",
        "if operation == '+':\n",
        "    print('{} + {} = '.format(number_1, number_2))\n",
        "    print(number_1 + number_2)\n",
        "\n",
        "elif operation == '-':\n",
        "    print('{} - {} = '.format(number_1, number_2))\n",
        "    print(number_1 - number_2)\n",
        "\n",
        "elif operation == '*':\n",
        "    print('{} * {} = '.format(number_1, number_2))\n",
        "    print(number_1 * number_2)\n",
        "\n",
        "elif operation == '/':\n",
        "    print('{} / {} = '.format(number_1, number_2))\n",
        "    print(number_1 / number_2)\n",
        "\n",
        "else:\n",
        "    print('You have not typed a valid operator, please run the program again.')\n"
      ],
      "metadata": {
        "colab": {
          "base_uri": "https://localhost:8080/"
        },
        "id": "mUrtLExtWRO_",
        "outputId": "0ff2cadc-e987-4f86-8f2d-dce08f5e3726"
      },
      "execution_count": null,
      "outputs": [
        {
          "output_type": "stream",
          "name": "stdout",
          "text": [
            "Enter your first number: 5\n",
            "Enter your second number: 10\n",
            "\n",
            "Please enter an operation to do:\n",
            "+ for addition\n",
            "- for subtraction\n",
            "* for multiplication\n",
            "/ for division\n",
            "/\n",
            "5 / 10 = \n",
            "0.5\n"
          ]
        }
      ]
    },
    {
      "cell_type": "code",
      "source": [
        "#question7\n",
        "n = int(input(\"Please enter number:\"))\n",
        "for i in range(0,n):\n",
        "    if(i%2!=0):\n",
        "        print(\"I WILL\")\n",
        "    else:\n",
        "        print(\"I CAN\")"
      ],
      "metadata": {
        "colab": {
          "base_uri": "https://localhost:8080/"
        },
        "id": "Zhk12Hf1N8Lx",
        "outputId": "b549a11e-09b2-4294-eb2c-33f75a00868b"
      },
      "execution_count": null,
      "outputs": [
        {
          "output_type": "stream",
          "name": "stdout",
          "text": [
            "Please enter number:5\n",
            "I CAN\n",
            "I WILL\n",
            "I CAN\n",
            "I WILL\n",
            "I CAN\n"
          ]
        }
      ]
    },
    {
      "cell_type": "code",
      "source": [
        ""
      ],
      "metadata": {
        "id": "I9BISzwWLase"
      },
      "execution_count": null,
      "outputs": []
    },
    {
      "cell_type": "code",
      "source": [
        "#question9\n",
        "def areConsecutive(arr, n):\n",
        "     \n",
        "    for i in range (1,n):\n",
        "        if(arr[i]!=arr[i-1]+1):\n",
        "            return False;\n",
        "             \n",
        "    return True;   \n",
        "a = [4,2,3]\n",
        "b = [1,5,6]    \n",
        "arr = a+b\n",
        "n = len(arr)\n",
        "if(areConsecutive(arr, n) == True):\n",
        "    print(\"true i.e.,Array elements are consecutive \")\n",
        "else:\n",
        "    print(\"false i.e.,Array elements are not consecutive \")"
      ],
      "metadata": {
        "colab": {
          "base_uri": "https://localhost:8080/"
        },
        "id": "6vNxW7IQzTqu",
        "outputId": "733fcc16-eecd-4562-8169-18069ada67cc"
      },
      "execution_count": null,
      "outputs": [
        {
          "output_type": "stream",
          "name": "stdout",
          "text": [
            "false i.e.,Array elements are not consecutive \n"
          ]
        }
      ]
    },
    {
      "cell_type": "code",
      "source": [
        "#question10\n",
        "d={\"cost_price\":32.67,\"sell_price\":45.00}\n",
        "inventory=1200\n",
        "a=d.get(\"cost_price\")\n",
        "b=d.get(\"sell_price\")\n",
        "profit=(b-a)*inventory\n",
        "c=round(profit)\n",
        "print(c)"
      ],
      "metadata": {
        "colab": {
          "base_uri": "https://localhost:8080/"
        },
        "id": "X7KFbQ-4nr7P",
        "outputId": "162d76d2-7f2a-4b1d-8160-fef91f0f88fc"
      },
      "execution_count": null,
      "outputs": [
        {
          "output_type": "stream",
          "name": "stdout",
          "text": [
            "14796\n"
          ]
        }
      ]
    }
  ]
}